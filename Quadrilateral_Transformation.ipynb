{
 "cells": [
  {
   "cell_type": "code",
   "execution_count": null,
   "id": "6deef716",
   "metadata": {},
   "outputs": [],
   "source": [
    "import matplotlib.pyplot as plt\n",
    "import matplotlib.patches as patches\n",
    "import numpy as np\n",
    "\n",
    "def transform_quadrilateral(quadrilateral, matrix):\n",
    "\n",
    "    transformed_quadrilateral = np.dot(matrix, quadrilateral.T).T\n",
    "    return transformed_quadrilateral\n",
    "\n",
    "def plot_transformed_quadrilateral(quadrilateral, transformed_quadrilateral):\n",
    "   \n",
    "    fig, ax = plt.subplots(frameon=False)\n",
    "    \n",
    "   \n",
    "    original_patch = patches.Polygon(quadrilateral, fill=False, edgecolor='red')\n",
    "    ax.add_patch(original_patch)\n",
    "    transformed_patch = patches.Polygon(transformed_quadrilateral, fill=False, edgecolor='green')\n",
    "    ax.add_patch(transformed_patch)\n",
    "    \n",
    "    \n",
    "    ax.annotate(\"\", xy=(10, 0), xytext=(-10, 0), arrowprops=dict(arrowstyle=\"->\"))\n",
    "    ax.annotate(\"\", xy=(0, 10), xytext=(0, -10), arrowprops=dict(arrowstyle=\"->\"))\n",
    "    ax.set_xlim([-10, 10])\n",
    "    ax.set_ylim([-10, 10])\n",
    "    ax.set(xlabel='x-axis', ylabel='y-axis')\n",
    "    ax.set_title('Basic Task')\n",
    "    ax.set_xlabel('x-axis', ha='center', va='top', rotation=0, labelpad=10)\n",
    "    ax.set_ylabel('y-axis', ha='right', va='center', rotation=0, labelpad=10)\n",
    "    ax.grid(True, linestyle='--', linewidth=0.5)\n",
    "    plt.show()\n",
    "\n",
    "\n",
    "quadrilateral_str = input(\"Here enters the point with a separate-commma list for the quadrilateral( x1,y1,x2,y2,x3,y3,x4,y4): \")\n",
    "quadrilateral = np.array([float(x) for x in quadrilateral_str.split(\",\")]).reshape(4, 2)\n",
    "\n",
    "\n",
    "matrix_str = input(\"Here enters the point with a separate-commma list for the quadrilateral transformed matrix( x1,y1,x2,y2): \")\n",
    "matrix = np.array([float(x) for x in matrix_str.split(\",\")]).reshape(2, 2)\n",
    "\n",
    "\n",
    "transformed_quadrilateral = transform_quadrilateral(quadrilateral, matrix)\n",
    "plot_transformed_quadrilateral(quadrilateral, transformed_quadrilateral)\n"
   ]
  },
  {
   "cell_type": "code",
   "execution_count": null,
   "id": "4d15f884",
   "metadata": {},
   "outputs": [],
   "source": []
  }
 ],
 "metadata": {
  "kernelspec": {
   "display_name": "Python 3 (ipykernel)",
   "language": "python",
   "name": "python3"
  },
  "language_info": {
   "codemirror_mode": {
    "name": "ipython",
    "version": 3
   },
   "file_extension": ".py",
   "mimetype": "text/x-python",
   "name": "python",
   "nbconvert_exporter": "python",
   "pygments_lexer": "ipython3",
   "version": "3.9.7"
  }
 },
 "nbformat": 4,
 "nbformat_minor": 5
}
